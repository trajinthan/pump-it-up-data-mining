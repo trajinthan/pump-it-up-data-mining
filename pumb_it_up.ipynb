{
  "nbformat": 4,
  "nbformat_minor": 0,
  "metadata": {
    "colab": {
      "name": "pumb-it-up",
      "provenance": [],
      "authorship_tag": "ABX9TyN/HS/OWR3DgsgvriKdpAKn",
      "include_colab_link": true
    },
    "kernelspec": {
      "name": "python3",
      "display_name": "Python 3"
    },
    "language_info": {
      "name": "python"
    }
  },
  "cells": [
    {
      "cell_type": "markdown",
      "metadata": {
        "id": "view-in-github",
        "colab_type": "text"
      },
      "source": [
        "<a href=\"https://colab.research.google.com/github/trajinthan/pump-it-up-data-mining/blob/main/pumb_it_up.ipynb\" target=\"_parent\"><img src=\"https://colab.research.google.com/assets/colab-badge.svg\" alt=\"Open In Colab\"/></a>"
      ]
    },
    {
      "cell_type": "markdown",
      "metadata": {
        "id": "-IfUrGb6MQFX"
      },
      "source": [
        "# **Load data**"
      ]
    },
    {
      "cell_type": "markdown",
      "metadata": {
        "id": "u_MKlCxOL4-D"
      },
      "source": [
        "Authenticate with google drive"
      ]
    },
    {
      "cell_type": "code",
      "metadata": {
        "id": "K4X6X_7jKcGD"
      },
      "source": [
        "# from pydrive.auth import GoogleAuth\n",
        "# from pydrive.drive import GoogleDrive\n",
        "# from google.colab import auth\n",
        "# from oauth2client.client import GoogleCredentials\n",
        "\n",
        "# auth.authenticate_user()\n",
        "# gauth = GoogleAuth()\n",
        "# gauth.credentials = GoogleCredentials.get_application_default()\n",
        "# drive = GoogleDrive(gauth)"
      ],
      "execution_count": 908,
      "outputs": []
    },
    {
      "cell_type": "code",
      "metadata": {
        "id": "T7OmOWxRqmju"
      },
      "source": [
        "import pandas as pd\n",
        "import numpy as np\n",
        "from sklearn.preprocessing import LabelEncoder, StandardScaler\n",
        "from sklearn.model_selection import train_test_split\n",
        "\n",
        "from typing import Dict, Tuple\n"
      ],
      "execution_count": 909,
      "outputs": []
    },
    {
      "cell_type": "markdown",
      "metadata": {
        "id": "coONgIhrL5uS"
      },
      "source": [
        "Load data from google drive to colab work space according to the csv file id"
      ]
    },
    {
      "cell_type": "code",
      "metadata": {
        "id": "oW9edJAYKkYG"
      },
      "source": [
        "\n",
        "# training_labels = drive.CreateFile({'id':'12QS3xedC7EoPS4Xj2cNVuwBSLnvbJMNM'}) \n",
        "# training_labels.GetContentFile('TrainLabel.csv')  \n",
        "train_label = pd.read_csv('TrainLabel.csv')\n",
        "\n",
        "# training_values = drive.CreateFile({'id':'1F4TZBjMRpTPkEbW7vjpQBIhl7Kp3QlEf'}) \n",
        "# training_values.GetContentFile('TrainValue.csv')  \n",
        "train_value = pd.read_csv('TrainValue.csv')\n",
        "\n",
        "# testing_labels = drive.CreateFile({'id':'1Y4Idhc-WeUTM5uQSjZOqyQ5r4ePgUD84'}) \n",
        "# testing_labels.GetContentFile('TestData.csv')  \n",
        "Xtest = pd.read_csv('TestData.csv')"
      ],
      "execution_count": 910,
      "outputs": []
    },
    {
      "cell_type": "markdown",
      "metadata": {
        "id": "dwtLwtEoQXKr"
      },
      "source": [
        "Merge training data values and respective training data labels"
      ]
    },
    {
      "cell_type": "code",
      "metadata": {
        "id": "1vm_9zK_PZWa"
      },
      "source": [
        "train_data = train_value.merge(train_label, on='id')"
      ],
      "execution_count": 911,
      "outputs": []
    },
    {
      "cell_type": "code",
      "metadata": {
        "id": "N6CkrER4LSbh",
        "colab": {
          "base_uri": "https://localhost:8080/",
          "height": 1000
        },
        "outputId": "94849ffc-0bb6-4641-d9d7-b59e1f8163e6"
      },
      "source": [
        "train_data.head().T"
      ],
      "execution_count": 912,
      "outputs": [
        {
          "output_type": "execute_result",
          "data": {
            "text/html": [
              "<div>\n",
              "<style scoped>\n",
              "    .dataframe tbody tr th:only-of-type {\n",
              "        vertical-align: middle;\n",
              "    }\n",
              "\n",
              "    .dataframe tbody tr th {\n",
              "        vertical-align: top;\n",
              "    }\n",
              "\n",
              "    .dataframe thead th {\n",
              "        text-align: right;\n",
              "    }\n",
              "</style>\n",
              "<table border=\"1\" class=\"dataframe\">\n",
              "  <thead>\n",
              "    <tr style=\"text-align: right;\">\n",
              "      <th></th>\n",
              "      <th>0</th>\n",
              "      <th>1</th>\n",
              "      <th>2</th>\n",
              "      <th>3</th>\n",
              "      <th>4</th>\n",
              "    </tr>\n",
              "  </thead>\n",
              "  <tbody>\n",
              "    <tr>\n",
              "      <th>id</th>\n",
              "      <td>69572</td>\n",
              "      <td>8776</td>\n",
              "      <td>34310</td>\n",
              "      <td>67743</td>\n",
              "      <td>19728</td>\n",
              "    </tr>\n",
              "    <tr>\n",
              "      <th>amount_tsh</th>\n",
              "      <td>6000</td>\n",
              "      <td>0</td>\n",
              "      <td>25</td>\n",
              "      <td>0</td>\n",
              "      <td>0</td>\n",
              "    </tr>\n",
              "    <tr>\n",
              "      <th>date_recorded</th>\n",
              "      <td>2011-03-14</td>\n",
              "      <td>2013-03-06</td>\n",
              "      <td>2013-02-25</td>\n",
              "      <td>2013-01-28</td>\n",
              "      <td>2011-07-13</td>\n",
              "    </tr>\n",
              "    <tr>\n",
              "      <th>funder</th>\n",
              "      <td>Roman</td>\n",
              "      <td>Grumeti</td>\n",
              "      <td>Lottery Club</td>\n",
              "      <td>Unicef</td>\n",
              "      <td>Action In A</td>\n",
              "    </tr>\n",
              "    <tr>\n",
              "      <th>gps_height</th>\n",
              "      <td>1390</td>\n",
              "      <td>1399</td>\n",
              "      <td>686</td>\n",
              "      <td>263</td>\n",
              "      <td>0</td>\n",
              "    </tr>\n",
              "    <tr>\n",
              "      <th>installer</th>\n",
              "      <td>Roman</td>\n",
              "      <td>GRUMETI</td>\n",
              "      <td>World vision</td>\n",
              "      <td>UNICEF</td>\n",
              "      <td>Artisan</td>\n",
              "    </tr>\n",
              "    <tr>\n",
              "      <th>longitude</th>\n",
              "      <td>34.9381</td>\n",
              "      <td>34.6988</td>\n",
              "      <td>37.4607</td>\n",
              "      <td>38.4862</td>\n",
              "      <td>31.1308</td>\n",
              "    </tr>\n",
              "    <tr>\n",
              "      <th>latitude</th>\n",
              "      <td>-9.85632</td>\n",
              "      <td>-2.14747</td>\n",
              "      <td>-3.82133</td>\n",
              "      <td>-11.1553</td>\n",
              "      <td>-1.82536</td>\n",
              "    </tr>\n",
              "    <tr>\n",
              "      <th>wpt_name</th>\n",
              "      <td>none</td>\n",
              "      <td>Zahanati</td>\n",
              "      <td>Kwa Mahundi</td>\n",
              "      <td>Zahanati Ya Nanyumbu</td>\n",
              "      <td>Shuleni</td>\n",
              "    </tr>\n",
              "    <tr>\n",
              "      <th>num_private</th>\n",
              "      <td>0</td>\n",
              "      <td>0</td>\n",
              "      <td>0</td>\n",
              "      <td>0</td>\n",
              "      <td>0</td>\n",
              "    </tr>\n",
              "    <tr>\n",
              "      <th>basin</th>\n",
              "      <td>Lake Nyasa</td>\n",
              "      <td>Lake Victoria</td>\n",
              "      <td>Pangani</td>\n",
              "      <td>Ruvuma / Southern Coast</td>\n",
              "      <td>Lake Victoria</td>\n",
              "    </tr>\n",
              "    <tr>\n",
              "      <th>subvillage</th>\n",
              "      <td>Mnyusi B</td>\n",
              "      <td>Nyamara</td>\n",
              "      <td>Majengo</td>\n",
              "      <td>Mahakamani</td>\n",
              "      <td>Kyanyamisa</td>\n",
              "    </tr>\n",
              "    <tr>\n",
              "      <th>region</th>\n",
              "      <td>Iringa</td>\n",
              "      <td>Mara</td>\n",
              "      <td>Manyara</td>\n",
              "      <td>Mtwara</td>\n",
              "      <td>Kagera</td>\n",
              "    </tr>\n",
              "    <tr>\n",
              "      <th>region_code</th>\n",
              "      <td>11</td>\n",
              "      <td>20</td>\n",
              "      <td>21</td>\n",
              "      <td>90</td>\n",
              "      <td>18</td>\n",
              "    </tr>\n",
              "    <tr>\n",
              "      <th>district_code</th>\n",
              "      <td>5</td>\n",
              "      <td>2</td>\n",
              "      <td>4</td>\n",
              "      <td>63</td>\n",
              "      <td>1</td>\n",
              "    </tr>\n",
              "    <tr>\n",
              "      <th>lga</th>\n",
              "      <td>Ludewa</td>\n",
              "      <td>Serengeti</td>\n",
              "      <td>Simanjiro</td>\n",
              "      <td>Nanyumbu</td>\n",
              "      <td>Karagwe</td>\n",
              "    </tr>\n",
              "    <tr>\n",
              "      <th>ward</th>\n",
              "      <td>Mundindi</td>\n",
              "      <td>Natta</td>\n",
              "      <td>Ngorika</td>\n",
              "      <td>Nanyumbu</td>\n",
              "      <td>Nyakasimbi</td>\n",
              "    </tr>\n",
              "    <tr>\n",
              "      <th>population</th>\n",
              "      <td>109</td>\n",
              "      <td>280</td>\n",
              "      <td>250</td>\n",
              "      <td>58</td>\n",
              "      <td>0</td>\n",
              "    </tr>\n",
              "    <tr>\n",
              "      <th>public_meeting</th>\n",
              "      <td>True</td>\n",
              "      <td>NaN</td>\n",
              "      <td>True</td>\n",
              "      <td>True</td>\n",
              "      <td>True</td>\n",
              "    </tr>\n",
              "    <tr>\n",
              "      <th>recorded_by</th>\n",
              "      <td>GeoData Consultants Ltd</td>\n",
              "      <td>GeoData Consultants Ltd</td>\n",
              "      <td>GeoData Consultants Ltd</td>\n",
              "      <td>GeoData Consultants Ltd</td>\n",
              "      <td>GeoData Consultants Ltd</td>\n",
              "    </tr>\n",
              "    <tr>\n",
              "      <th>scheme_management</th>\n",
              "      <td>VWC</td>\n",
              "      <td>Other</td>\n",
              "      <td>VWC</td>\n",
              "      <td>VWC</td>\n",
              "      <td>NaN</td>\n",
              "    </tr>\n",
              "    <tr>\n",
              "      <th>scheme_name</th>\n",
              "      <td>Roman</td>\n",
              "      <td>NaN</td>\n",
              "      <td>Nyumba ya mungu pipe scheme</td>\n",
              "      <td>NaN</td>\n",
              "      <td>NaN</td>\n",
              "    </tr>\n",
              "    <tr>\n",
              "      <th>permit</th>\n",
              "      <td>False</td>\n",
              "      <td>True</td>\n",
              "      <td>True</td>\n",
              "      <td>True</td>\n",
              "      <td>True</td>\n",
              "    </tr>\n",
              "    <tr>\n",
              "      <th>construction_year</th>\n",
              "      <td>1999</td>\n",
              "      <td>2010</td>\n",
              "      <td>2009</td>\n",
              "      <td>1986</td>\n",
              "      <td>0</td>\n",
              "    </tr>\n",
              "    <tr>\n",
              "      <th>extraction_type</th>\n",
              "      <td>gravity</td>\n",
              "      <td>gravity</td>\n",
              "      <td>gravity</td>\n",
              "      <td>submersible</td>\n",
              "      <td>gravity</td>\n",
              "    </tr>\n",
              "    <tr>\n",
              "      <th>extraction_type_group</th>\n",
              "      <td>gravity</td>\n",
              "      <td>gravity</td>\n",
              "      <td>gravity</td>\n",
              "      <td>submersible</td>\n",
              "      <td>gravity</td>\n",
              "    </tr>\n",
              "    <tr>\n",
              "      <th>extraction_type_class</th>\n",
              "      <td>gravity</td>\n",
              "      <td>gravity</td>\n",
              "      <td>gravity</td>\n",
              "      <td>submersible</td>\n",
              "      <td>gravity</td>\n",
              "    </tr>\n",
              "    <tr>\n",
              "      <th>management</th>\n",
              "      <td>vwc</td>\n",
              "      <td>wug</td>\n",
              "      <td>vwc</td>\n",
              "      <td>vwc</td>\n",
              "      <td>other</td>\n",
              "    </tr>\n",
              "    <tr>\n",
              "      <th>management_group</th>\n",
              "      <td>user-group</td>\n",
              "      <td>user-group</td>\n",
              "      <td>user-group</td>\n",
              "      <td>user-group</td>\n",
              "      <td>other</td>\n",
              "    </tr>\n",
              "    <tr>\n",
              "      <th>payment</th>\n",
              "      <td>pay annually</td>\n",
              "      <td>never pay</td>\n",
              "      <td>pay per bucket</td>\n",
              "      <td>never pay</td>\n",
              "      <td>never pay</td>\n",
              "    </tr>\n",
              "    <tr>\n",
              "      <th>payment_type</th>\n",
              "      <td>annually</td>\n",
              "      <td>never pay</td>\n",
              "      <td>per bucket</td>\n",
              "      <td>never pay</td>\n",
              "      <td>never pay</td>\n",
              "    </tr>\n",
              "    <tr>\n",
              "      <th>water_quality</th>\n",
              "      <td>soft</td>\n",
              "      <td>soft</td>\n",
              "      <td>soft</td>\n",
              "      <td>soft</td>\n",
              "      <td>soft</td>\n",
              "    </tr>\n",
              "    <tr>\n",
              "      <th>quality_group</th>\n",
              "      <td>good</td>\n",
              "      <td>good</td>\n",
              "      <td>good</td>\n",
              "      <td>good</td>\n",
              "      <td>good</td>\n",
              "    </tr>\n",
              "    <tr>\n",
              "      <th>quantity</th>\n",
              "      <td>enough</td>\n",
              "      <td>insufficient</td>\n",
              "      <td>enough</td>\n",
              "      <td>dry</td>\n",
              "      <td>seasonal</td>\n",
              "    </tr>\n",
              "    <tr>\n",
              "      <th>quantity_group</th>\n",
              "      <td>enough</td>\n",
              "      <td>insufficient</td>\n",
              "      <td>enough</td>\n",
              "      <td>dry</td>\n",
              "      <td>seasonal</td>\n",
              "    </tr>\n",
              "    <tr>\n",
              "      <th>source</th>\n",
              "      <td>spring</td>\n",
              "      <td>rainwater harvesting</td>\n",
              "      <td>dam</td>\n",
              "      <td>machine dbh</td>\n",
              "      <td>rainwater harvesting</td>\n",
              "    </tr>\n",
              "    <tr>\n",
              "      <th>source_type</th>\n",
              "      <td>spring</td>\n",
              "      <td>rainwater harvesting</td>\n",
              "      <td>dam</td>\n",
              "      <td>borehole</td>\n",
              "      <td>rainwater harvesting</td>\n",
              "    </tr>\n",
              "    <tr>\n",
              "      <th>source_class</th>\n",
              "      <td>groundwater</td>\n",
              "      <td>surface</td>\n",
              "      <td>surface</td>\n",
              "      <td>groundwater</td>\n",
              "      <td>surface</td>\n",
              "    </tr>\n",
              "    <tr>\n",
              "      <th>waterpoint_type</th>\n",
              "      <td>communal standpipe</td>\n",
              "      <td>communal standpipe</td>\n",
              "      <td>communal standpipe multiple</td>\n",
              "      <td>communal standpipe multiple</td>\n",
              "      <td>communal standpipe</td>\n",
              "    </tr>\n",
              "    <tr>\n",
              "      <th>waterpoint_type_group</th>\n",
              "      <td>communal standpipe</td>\n",
              "      <td>communal standpipe</td>\n",
              "      <td>communal standpipe</td>\n",
              "      <td>communal standpipe</td>\n",
              "      <td>communal standpipe</td>\n",
              "    </tr>\n",
              "    <tr>\n",
              "      <th>status_group</th>\n",
              "      <td>functional</td>\n",
              "      <td>functional</td>\n",
              "      <td>functional</td>\n",
              "      <td>non functional</td>\n",
              "      <td>functional</td>\n",
              "    </tr>\n",
              "  </tbody>\n",
              "</table>\n",
              "</div>"
            ],
            "text/plain": [
              "                                             0  ...                        4\n",
              "id                                       69572  ...                    19728\n",
              "amount_tsh                                6000  ...                        0\n",
              "date_recorded                       2011-03-14  ...               2011-07-13\n",
              "funder                                   Roman  ...              Action In A\n",
              "gps_height                                1390  ...                        0\n",
              "installer                                Roman  ...                  Artisan\n",
              "longitude                              34.9381  ...                  31.1308\n",
              "latitude                              -9.85632  ...                 -1.82536\n",
              "wpt_name                                  none  ...                  Shuleni\n",
              "num_private                                  0  ...                        0\n",
              "basin                               Lake Nyasa  ...            Lake Victoria\n",
              "subvillage                            Mnyusi B  ...               Kyanyamisa\n",
              "region                                  Iringa  ...                   Kagera\n",
              "region_code                                 11  ...                       18\n",
              "district_code                                5  ...                        1\n",
              "lga                                     Ludewa  ...                  Karagwe\n",
              "ward                                  Mundindi  ...               Nyakasimbi\n",
              "population                                 109  ...                        0\n",
              "public_meeting                            True  ...                     True\n",
              "recorded_by            GeoData Consultants Ltd  ...  GeoData Consultants Ltd\n",
              "scheme_management                          VWC  ...                      NaN\n",
              "scheme_name                              Roman  ...                      NaN\n",
              "permit                                   False  ...                     True\n",
              "construction_year                         1999  ...                        0\n",
              "extraction_type                        gravity  ...                  gravity\n",
              "extraction_type_group                  gravity  ...                  gravity\n",
              "extraction_type_class                  gravity  ...                  gravity\n",
              "management                                 vwc  ...                    other\n",
              "management_group                    user-group  ...                    other\n",
              "payment                           pay annually  ...                never pay\n",
              "payment_type                          annually  ...                never pay\n",
              "water_quality                             soft  ...                     soft\n",
              "quality_group                             good  ...                     good\n",
              "quantity                                enough  ...                 seasonal\n",
              "quantity_group                          enough  ...                 seasonal\n",
              "source                                  spring  ...     rainwater harvesting\n",
              "source_type                             spring  ...     rainwater harvesting\n",
              "source_class                       groundwater  ...                  surface\n",
              "waterpoint_type             communal standpipe  ...       communal standpipe\n",
              "waterpoint_type_group       communal standpipe  ...       communal standpipe\n",
              "status_group                        functional  ...               functional\n",
              "\n",
              "[41 rows x 5 columns]"
            ]
          },
          "metadata": {},
          "execution_count": 912
        }
      ]
    },
    {
      "cell_type": "markdown",
      "metadata": {
        "id": "xH29I3yeQbE4"
      },
      "source": [
        "Get the data types of the values"
      ]
    },
    {
      "cell_type": "code",
      "metadata": {
        "id": "7QwrQ-sMNrWw",
        "colab": {
          "base_uri": "https://localhost:8080/"
        },
        "outputId": "f5068c29-15b1-4ab3-92f2-a7ecc92a53b8"
      },
      "source": [
        "train_data.dtypes"
      ],
      "execution_count": 913,
      "outputs": [
        {
          "output_type": "execute_result",
          "data": {
            "text/plain": [
              "id                         int64\n",
              "amount_tsh               float64\n",
              "date_recorded             object\n",
              "funder                    object\n",
              "gps_height                 int64\n",
              "installer                 object\n",
              "longitude                float64\n",
              "latitude                 float64\n",
              "wpt_name                  object\n",
              "num_private                int64\n",
              "basin                     object\n",
              "subvillage                object\n",
              "region                    object\n",
              "region_code                int64\n",
              "district_code              int64\n",
              "lga                       object\n",
              "ward                      object\n",
              "population                 int64\n",
              "public_meeting            object\n",
              "recorded_by               object\n",
              "scheme_management         object\n",
              "scheme_name               object\n",
              "permit                    object\n",
              "construction_year          int64\n",
              "extraction_type           object\n",
              "extraction_type_group     object\n",
              "extraction_type_class     object\n",
              "management                object\n",
              "management_group          object\n",
              "payment                   object\n",
              "payment_type              object\n",
              "water_quality             object\n",
              "quality_group             object\n",
              "quantity                  object\n",
              "quantity_group            object\n",
              "source                    object\n",
              "source_type               object\n",
              "source_class              object\n",
              "waterpoint_type           object\n",
              "waterpoint_type_group     object\n",
              "status_group              object\n",
              "dtype: object"
            ]
          },
          "metadata": {},
          "execution_count": 913
        }
      ]
    },
    {
      "cell_type": "code",
      "metadata": {
        "id": "OdDoRe5AQ-w-"
      },
      "source": [
        "# train_data['status_group'].value_counts()"
      ],
      "execution_count": 914,
      "outputs": []
    },
    {
      "cell_type": "markdown",
      "metadata": {
        "id": "bMa4HEE1lmdB"
      },
      "source": [
        "# **Data Preprocessing**"
      ]
    },
    {
      "cell_type": "markdown",
      "metadata": {
        "id": "ZCdgaFvb63b3"
      },
      "source": [
        " **Drop identical or unnecessary columns**"
      ]
    },
    {
      "cell_type": "markdown",
      "metadata": {
        "id": "cZDQF0xCyrTJ"
      },
      "source": [
        "1. The features **quantity** and **quantity_group** are described as **The quantity of water** So we need to check whether they are same in or not"
      ]
    },
    {
      "cell_type": "code",
      "metadata": {
        "id": "j42Ij44M2nQ8"
      },
      "source": [
        "# train_data['quantity'].value_counts()"
      ],
      "execution_count": 915,
      "outputs": []
    },
    {
      "cell_type": "code",
      "metadata": {
        "id": "5PHl9wv8yL7s"
      },
      "source": [
        "# train_data['quantity_group'].value_counts()"
      ],
      "execution_count": 916,
      "outputs": []
    },
    {
      "cell_type": "code",
      "metadata": {
        "id": "yKBPh1-C43F2"
      },
      "source": [
        "# train_data.groupby(['quantity','quantity_group']).count()"
      ],
      "execution_count": 917,
      "outputs": []
    },
    {
      "cell_type": "markdown",
      "metadata": {
        "id": "fHl0EFnc23Jq"
      },
      "source": [
        "As both features carry identical values we can drop either **quantity** or **quantity_group**."
      ]
    },
    {
      "cell_type": "markdown",
      "metadata": {
        "id": "y2WZ2F-s7Tc4"
      },
      "source": [
        "2. The features **water_quality** and **quality_group** are described as **The quality of the water** So we need to check whether they are same in or not."
      ]
    },
    {
      "cell_type": "code",
      "metadata": {
        "id": "DTnfaJoezKht"
      },
      "source": [
        "# train_data['water_quality'].value_counts()"
      ],
      "execution_count": 918,
      "outputs": []
    },
    {
      "cell_type": "code",
      "metadata": {
        "id": "FfOJOAxezPet"
      },
      "source": [
        "# train_data['quality_group'].value_counts()"
      ],
      "execution_count": 919,
      "outputs": []
    },
    {
      "cell_type": "code",
      "metadata": {
        "id": "XaMfhZHS8BON"
      },
      "source": [
        "# train_data.groupby(['water_quality','quality_group']).count()"
      ],
      "execution_count": 920,
      "outputs": []
    },
    {
      "cell_type": "markdown",
      "metadata": {
        "id": "qbdFRMUm8meP"
      },
      "source": [
        "As both features have almost same values we can drop either one of them. **water_quality** is more informative."
      ]
    },
    {
      "cell_type": "markdown",
      "metadata": {
        "id": "eWx4WrQr9Z3x"
      },
      "source": [
        "3. The features **payment** and **payment_type** are described as **What the water costs** So we need to check whether they are same in or not."
      ]
    },
    {
      "cell_type": "code",
      "metadata": {
        "id": "TzzVfYpQ9FKs"
      },
      "source": [
        "# train_data['payment'].value_counts()"
      ],
      "execution_count": 921,
      "outputs": []
    },
    {
      "cell_type": "code",
      "metadata": {
        "id": "gkU5yKVs9k1J"
      },
      "source": [
        "# train_data['payment_type'].value_counts()"
      ],
      "execution_count": 922,
      "outputs": []
    },
    {
      "cell_type": "code",
      "metadata": {
        "id": "oh5G2YEP9ljQ"
      },
      "source": [
        "# train_data.groupby(['payment','payment_type']).count()"
      ],
      "execution_count": 923,
      "outputs": []
    },
    {
      "cell_type": "markdown",
      "metadata": {
        "id": "MlOGDvMz93ot"
      },
      "source": [
        "As both features carry identical values we can drop either **payment** or **payment_type**."
      ]
    },
    {
      "cell_type": "markdown",
      "metadata": {
        "id": "Q7bFhQbU-KQk"
      },
      "source": [
        "4. The features **waterpoint_type** and **waterpoint_type_group** are described as **The kind of waterpoint** So we need to check whether they are same in or not."
      ]
    },
    {
      "cell_type": "code",
      "metadata": {
        "id": "Xvl1Egko-jjx"
      },
      "source": [
        "# train_data['waterpoint_type'].value_counts()"
      ],
      "execution_count": 924,
      "outputs": []
    },
    {
      "cell_type": "code",
      "metadata": {
        "id": "lrcwSsr7-mO1"
      },
      "source": [
        "# train_data['waterpoint_type_group'].value_counts()"
      ],
      "execution_count": 925,
      "outputs": []
    },
    {
      "cell_type": "code",
      "metadata": {
        "id": "S4AyMc-T-mxB"
      },
      "source": [
        "# train_data.groupby(['waterpoint_type','waterpoint_type_group']).count()"
      ],
      "execution_count": 926,
      "outputs": []
    },
    {
      "cell_type": "markdown",
      "metadata": {
        "id": "Ltk40_cN-6lr"
      },
      "source": [
        "As both features have almost same values we can drop either one of them. **waterpoint_type** is more informative."
      ]
    },
    {
      "cell_type": "markdown",
      "metadata": {
        "id": "8M7knTKZqSr9"
      },
      "source": [
        "5. The features **source** , **source_type** and **source_group** are described as **The source of the water** So we need to check whether they are same in or not."
      ]
    },
    {
      "cell_type": "code",
      "metadata": {
        "id": "E1jRktEmpECB"
      },
      "source": [
        "# train_data['source'].value_counts()"
      ],
      "execution_count": 927,
      "outputs": []
    },
    {
      "cell_type": "code",
      "metadata": {
        "id": "avkRwFxLqABr"
      },
      "source": [
        "# train_data['source_type'].value_counts()"
      ],
      "execution_count": 928,
      "outputs": []
    },
    {
      "cell_type": "code",
      "metadata": {
        "id": "Idq1xHeQqqHK"
      },
      "source": [
        "# train_data['source_class'].value_counts()"
      ],
      "execution_count": 929,
      "outputs": []
    },
    {
      "cell_type": "code",
      "metadata": {
        "id": "4ChOva5zqDBF"
      },
      "source": [
        "# train_data.groupby(['source_class','source_type','source']).count()"
      ],
      "execution_count": 930,
      "outputs": []
    },
    {
      "cell_type": "markdown",
      "metadata": {
        "id": "ImNL2B5Or8Zi"
      },
      "source": [
        " As **source_class** and **source_type** are super sets of **source**, we can drop **source_class** and **source_type**. **source** is more informative feature among them."
      ]
    },
    {
      "cell_type": "markdown",
      "metadata": {
        "id": "ZNdD37xes27Z"
      },
      "source": [
        "6. The features **management** and **management_group** are described as **How the waterpoint is managed** So we need to check whether they are same in or not."
      ]
    },
    {
      "cell_type": "code",
      "metadata": {
        "id": "wKXcfiHatQG6"
      },
      "source": [
        "# train_data['management'].value_counts()"
      ],
      "execution_count": 931,
      "outputs": []
    },
    {
      "cell_type": "code",
      "metadata": {
        "id": "of-Y76frtQ1y"
      },
      "source": [
        "# train_data['management_group'].value_counts()"
      ],
      "execution_count": 932,
      "outputs": []
    },
    {
      "cell_type": "code",
      "metadata": {
        "id": "CSDK6FWGtXpG"
      },
      "source": [
        "# train_data.groupby(['management_group','management']).count()"
      ],
      "execution_count": 933,
      "outputs": []
    },
    {
      "cell_type": "markdown",
      "metadata": {
        "id": "NuMW8wtbtlh1"
      },
      "source": [
        "**management** and **management_group** contains same information and management is more detailed. so **management_group** can be dropped"
      ]
    },
    {
      "cell_type": "markdown",
      "metadata": {
        "id": "mgTrecMSt5VN"
      },
      "source": [
        "7. The features **extraction_type** , **extraction_type_class** and **extraction_type_group** are described as **The kind of extraction the waterpoint uses** So we need to check whether they are same in or not."
      ]
    },
    {
      "cell_type": "code",
      "metadata": {
        "id": "FI48g4vUtkMt"
      },
      "source": [
        "# train_data['extraction_type'].value_counts()"
      ],
      "execution_count": 934,
      "outputs": []
    },
    {
      "cell_type": "code",
      "metadata": {
        "id": "1TCsBmX1uJZj"
      },
      "source": [
        "# train_data['extraction_type_class'].value_counts()"
      ],
      "execution_count": 935,
      "outputs": []
    },
    {
      "cell_type": "code",
      "metadata": {
        "id": "lKPRin3PuJ43"
      },
      "source": [
        "# train_data['extraction_type_group'].value_counts()"
      ],
      "execution_count": 936,
      "outputs": []
    },
    {
      "cell_type": "code",
      "metadata": {
        "id": "nV8X9l9HuYQo"
      },
      "source": [
        "# train_data.groupby(['extraction_type_class','extraction_type_group','extraction_type']).count()"
      ],
      "execution_count": 937,
      "outputs": []
    },
    {
      "cell_type": "markdown",
      "metadata": {
        "id": "3TvF9aOOu0fu"
      },
      "source": [
        "As **extraction_type** contains unique information we can drop **extraction_type_group** and **extraction_type_class**\t"
      ]
    },
    {
      "cell_type": "markdown",
      "metadata": {
        "id": "V6G_DnF3vCMG"
      },
      "source": [
        "8. The features **scheme_management** and **scheme_name** are described as **Who operates the waterpoint** So we need to check whether they are same in or not."
      ]
    },
    {
      "cell_type": "code",
      "metadata": {
        "id": "1w5sEFTjvUnW"
      },
      "source": [
        "# train_data['scheme_management'].value_counts()"
      ],
      "execution_count": 938,
      "outputs": []
    },
    {
      "cell_type": "code",
      "metadata": {
        "id": "yYS3eFa1vXdX"
      },
      "source": [
        "# train_data['scheme_name'].value_counts()"
      ],
      "execution_count": 939,
      "outputs": []
    },
    {
      "cell_type": "code",
      "metadata": {
        "id": "HRxy24Iqhs52"
      },
      "source": [
        "# train_data.groupby(['scheme_management','scheme_name']).count()"
      ],
      "execution_count": 940,
      "outputs": []
    },
    {
      "cell_type": "markdown",
      "metadata": {
        "id": "5AOq9YRrq4gQ"
      },
      "source": [
        "9. The feature **recorded_by** can be dropped as it has only one distinct value"
      ]
    },
    {
      "cell_type": "code",
      "metadata": {
        "id": "V8Few4fZqvSY",
        "outputId": "0d3ef7e9-155c-4e71-d19e-92724d756878",
        "colab": {
          "base_uri": "https://localhost:8080/"
        }
      },
      "source": [
        "train_data['recorded_by'].value_counts()"
      ],
      "execution_count": 941,
      "outputs": [
        {
          "output_type": "execute_result",
          "data": {
            "text/plain": [
              "GeoData Consultants Ltd    59400\n",
              "Name: recorded_by, dtype: int64"
            ]
          },
          "metadata": {},
          "execution_count": 941
        }
      ]
    },
    {
      "cell_type": "markdown",
      "metadata": {
        "id": "ChP_vZWDo-Ul"
      },
      "source": [
        "Definition for drop columns"
      ]
    },
    {
      "cell_type": "code",
      "metadata": {
        "id": "E3Klk9eInk4I"
      },
      "source": [
        "def drop_columns(dataset: pd.DataFrame):\n",
        "  drop_columns=['management_group','scheme_management',\n",
        "                'quantity_group','source_class',\n",
        "                'source_type','recorded_by','quality_group',\n",
        "                'payment_type','extraction_type_class',\n",
        "                'extraction_type', 'waterpoint_type_group']\n",
        "  dataset.drop(drop_columns,1, inplace=True)"
      ],
      "execution_count": 942,
      "outputs": []
    },
    {
      "cell_type": "code",
      "metadata": {
        "id": "1kDcOfXapy0X"
      },
      "source": [
        "drop_columns(train_data)\n",
        "drop_columns(Xtest)"
      ],
      "execution_count": 943,
      "outputs": []
    },
    {
      "cell_type": "markdown",
      "metadata": {
        "id": "dgmKARiKpfV-"
      },
      "source": [
        "**Handling Null Vaues**"
      ]
    },
    {
      "cell_type": "markdown",
      "metadata": {
        "id": "35mIRkvHl5IU"
      },
      "source": [
        "Get the count of null values  in each features "
      ]
    },
    {
      "cell_type": "code",
      "metadata": {
        "id": "sgHL_Budl2l5"
      },
      "source": [
        "# train_data.isnull().sum()"
      ],
      "execution_count": 944,
      "outputs": []
    },
    {
      "cell_type": "markdown",
      "metadata": {
        "id": "qv_3dlUvmEyW"
      },
      "source": [
        "Analyzing the data values of the features which have missinng values"
      ]
    },
    {
      "cell_type": "code",
      "metadata": {
        "id": "Uoq1hMXxnBrr"
      },
      "source": [
        "# train_data['funder'].value_counts().head(20)"
      ],
      "execution_count": 945,
      "outputs": []
    },
    {
      "cell_type": "code",
      "metadata": {
        "id": "uoq6qJrrnSNU"
      },
      "source": [
        "# train_data['installer'].value_counts().head(20)"
      ],
      "execution_count": 946,
      "outputs": []
    },
    {
      "cell_type": "code",
      "metadata": {
        "id": "edqJVVRBnXoo"
      },
      "source": [
        "# train_data['scheme_name'].value_counts().head(20)"
      ],
      "execution_count": 947,
      "outputs": []
    },
    {
      "cell_type": "markdown",
      "metadata": {
        "id": "YOI1DmGRotn4"
      },
      "source": [
        "missing values in **funder** ,**installer** and **scheme_name** can be filled as **n/a**"
      ]
    },
    {
      "cell_type": "code",
      "metadata": {
        "id": "kfXS8gIHniWd"
      },
      "source": [
        "# train_data['public_meeting'].value_counts().head(20)"
      ],
      "execution_count": 948,
      "outputs": []
    },
    {
      "cell_type": "code",
      "metadata": {
        "id": "5tM6ThfRnovf"
      },
      "source": [
        "# train_data['permit'].value_counts().head(20)"
      ],
      "execution_count": 949,
      "outputs": []
    },
    {
      "cell_type": "markdown",
      "metadata": {
        "id": "7zgJhYQFoIRG"
      },
      "source": [
        "**public_meeting** and **permit** have nearly 3000 null values and they have value **true** in very high number compared to **false**. so we can fill null values with **true**"
      ]
    },
    {
      "cell_type": "markdown",
      "metadata": {
        "id": "CKo1_Xf6pmi2"
      },
      "source": [
        "Definition for replace missing values"
      ]
    },
    {
      "cell_type": "code",
      "metadata": {
        "id": "nrTn3AhHpd9e"
      },
      "source": [
        "def replace_null_value(dataset: pd.DataFrame):\n",
        "    for column in ['funder','installer','scheme_name','subvillage']:\n",
        "        dataset[column] = dataset[column].fillna('n/a')\n",
        "    for column in ['permit','public_meeting']:\n",
        "        dataset[column] = dataset[column].fillna('true')"
      ],
      "execution_count": 950,
      "outputs": []
    },
    {
      "cell_type": "code",
      "metadata": {
        "id": "MGlklDKupp7g"
      },
      "source": [
        "replace_null_value(train_data)\n",
        "replace_null_value(Xtest)"
      ],
      "execution_count": 951,
      "outputs": []
    },
    {
      "cell_type": "markdown",
      "metadata": {
        "id": "6vAONS6nqMHP"
      },
      "source": [
        "**Encoding categorical columns**"
      ]
    },
    {
      "cell_type": "code",
      "metadata": {
        "id": "K7zXuWi0uiI8"
      },
      "source": [
        "train_data['permit'] = train_data['permit'].astype(bool).astype(int)\n",
        "Xtest['permit'] = Xtest['permit'].astype(bool).astype(int)"
      ],
      "execution_count": 952,
      "outputs": []
    },
    {
      "cell_type": "code",
      "metadata": {
        "id": "iiU6fk2euozS"
      },
      "source": [
        "train_data['public_meeting'] = train_data['public_meeting'].astype(bool).astype(int)\n",
        "Xtest['public_meeting'] = Xtest['public_meeting'].astype(bool).astype(int)"
      ],
      "execution_count": 953,
      "outputs": []
    },
    {
      "cell_type": "code",
      "metadata": {
        "id": "sOgDCFiPs6Oc"
      },
      "source": [
        "cat_cols = train_data.select_dtypes('object').columns"
      ],
      "execution_count": 954,
      "outputs": []
    },
    {
      "cell_type": "code",
      "metadata": {
        "id": "baYrNyzqtqkJ"
      },
      "source": [
        "def encode_categorical_columns(dataset: pd.DataFrame) -> Dict[str, LabelEncoder]:\n",
        "    encoders = {} \n",
        "    for column in cat_cols:\n",
        "      if column not in dataset.columns:\n",
        "        continue\n",
        "\n",
        "      le = LabelEncoder()\n",
        "      le.fit(dataset[column])\n",
        "\n",
        "      dataset[column] = le.transform(dataset[column])\n",
        "      encoders[column]= le\n",
        "        \n",
        "    return encoders"
      ],
      "execution_count": 955,
      "outputs": []
    },
    {
      "cell_type": "code",
      "metadata": {
        "id": "dtYbRuH1t1rx",
        "outputId": "f8e22438-38d5-4bde-c7cc-154da2cbcd0b",
        "colab": {
          "base_uri": "https://localhost:8080/"
        }
      },
      "source": [
        "encoders = encode_categorical_columns(train_data)\n",
        "encode_categorical_columns(Xtest)"
      ],
      "execution_count": 956,
      "outputs": [
        {
          "output_type": "execute_result",
          "data": {
            "text/plain": [
              "{'basin': LabelEncoder(),\n",
              " 'date_recorded': LabelEncoder(),\n",
              " 'extraction_type_group': LabelEncoder(),\n",
              " 'funder': LabelEncoder(),\n",
              " 'installer': LabelEncoder(),\n",
              " 'lga': LabelEncoder(),\n",
              " 'management': LabelEncoder(),\n",
              " 'payment': LabelEncoder(),\n",
              " 'quantity': LabelEncoder(),\n",
              " 'region': LabelEncoder(),\n",
              " 'scheme_name': LabelEncoder(),\n",
              " 'source': LabelEncoder(),\n",
              " 'subvillage': LabelEncoder(),\n",
              " 'ward': LabelEncoder(),\n",
              " 'water_quality': LabelEncoder(),\n",
              " 'waterpoint_type': LabelEncoder(),\n",
              " 'wpt_name': LabelEncoder()}"
            ]
          },
          "metadata": {},
          "execution_count": 956
        }
      ]
    },
    {
      "cell_type": "markdown",
      "metadata": {
        "id": "oALfS7RCtwIA"
      },
      "source": [
        "**Scale columns**"
      ]
    },
    {
      "cell_type": "code",
      "metadata": {
        "id": "vhPgZfRmtyko"
      },
      "source": [
        "def scale_columns(dataset: pd.DataFrame):\n",
        "    scaler = StandardScaler()\n",
        "    dataset = scaler.fit_transform(dataset)"
      ],
      "execution_count": 957,
      "outputs": []
    },
    {
      "cell_type": "code",
      "metadata": {
        "id": "TZEGvR6Utz5e"
      },
      "source": [
        "scale_columns(train_data)"
      ],
      "execution_count": 958,
      "outputs": []
    },
    {
      "cell_type": "markdown",
      "metadata": {
        "id": "_o9fGE3yuLGT"
      },
      "source": [
        "Split data"
      ]
    },
    {
      "cell_type": "code",
      "metadata": {
        "id": "C3w7hyEfuPAT"
      },
      "source": [
        "X = train_data.iloc[:, :-1]\n",
        "y = train_data.iloc[:, -1]\n",
        "# to divide our X and y to test and train\n",
        "X_train, X_test, y_train, y_test = train_test_split(X, y, test_size=0.2, random_state=42)"
      ],
      "execution_count": 972,
      "outputs": []
    },
    {
      "cell_type": "markdown",
      "metadata": {
        "id": "tIPW_j52uHx1"
      },
      "source": [
        "# **Modeling**"
      ]
    },
    {
      "cell_type": "code",
      "metadata": {
        "colab": {
          "base_uri": "https://localhost:8080/"
        },
        "id": "upiV7N9quNuM",
        "outputId": "dfe59a75-d542-4199-ffa2-abe869e6f4f8"
      },
      "source": [
        "!pip install catboost"
      ],
      "execution_count": 961,
      "outputs": [
        {
          "output_type": "stream",
          "name": "stdout",
          "text": [
            "Requirement already satisfied: catboost in /usr/local/lib/python3.7/dist-packages (0.26.1)\n",
            "Requirement already satisfied: scipy in /usr/local/lib/python3.7/dist-packages (from catboost) (1.4.1)\n",
            "Requirement already satisfied: plotly in /usr/local/lib/python3.7/dist-packages (from catboost) (4.4.1)\n",
            "Requirement already satisfied: six in /usr/local/lib/python3.7/dist-packages (from catboost) (1.15.0)\n",
            "Requirement already satisfied: matplotlib in /usr/local/lib/python3.7/dist-packages (from catboost) (3.2.2)\n",
            "Requirement already satisfied: pandas>=0.24.0 in /usr/local/lib/python3.7/dist-packages (from catboost) (1.1.5)\n",
            "Requirement already satisfied: numpy>=1.16.0 in /usr/local/lib/python3.7/dist-packages (from catboost) (1.19.5)\n",
            "Requirement already satisfied: graphviz in /usr/local/lib/python3.7/dist-packages (from catboost) (0.10.1)\n",
            "Requirement already satisfied: python-dateutil>=2.7.3 in /usr/local/lib/python3.7/dist-packages (from pandas>=0.24.0->catboost) (2.8.2)\n",
            "Requirement already satisfied: pytz>=2017.2 in /usr/local/lib/python3.7/dist-packages (from pandas>=0.24.0->catboost) (2018.9)\n",
            "Requirement already satisfied: pyparsing!=2.0.4,!=2.1.2,!=2.1.6,>=2.0.1 in /usr/local/lib/python3.7/dist-packages (from matplotlib->catboost) (2.4.7)\n",
            "Requirement already satisfied: kiwisolver>=1.0.1 in /usr/local/lib/python3.7/dist-packages (from matplotlib->catboost) (1.3.1)\n",
            "Requirement already satisfied: cycler>=0.10 in /usr/local/lib/python3.7/dist-packages (from matplotlib->catboost) (0.10.0)\n",
            "Requirement already satisfied: retrying>=1.3.3 in /usr/local/lib/python3.7/dist-packages (from plotly->catboost) (1.3.3)\n"
          ]
        }
      ]
    },
    {
      "cell_type": "markdown",
      "metadata": {
        "id": "vPleI2htwBzm"
      },
      "source": [
        "# **CatBoostClassifier**"
      ]
    },
    {
      "cell_type": "code",
      "metadata": {
        "id": "Dr27u4m1umTT"
      },
      "source": [
        "# from catboost import CatBoostClassifier\n",
        "# model= CatBoostClassifier(\n",
        "#                          learning_rate = 0.39730054363848666,\n",
        "#         # n_estimators=1000,\n",
        "#         subsample=0.075,\n",
        "#         max_depth=5,\n",
        "#         l2_leaf_reg = 40,\n",
        "#         verbose=100,\n",
        "#         bootstrap_type=\"Bernoulli\"\n",
        "#         # auto_class_weights=\"SqrtBalanced\",\n",
        "#         # loss_function='MultiClass'\n",
        "#         )"
      ],
      "execution_count": 962,
      "outputs": []
    },
    {
      "cell_type": "code",
      "metadata": {
        "id": "rjOz7vX4v2l2"
      },
      "source": [
        "# from xgboost import XGBClassifier\n",
        "# model = XGBClassifier(nthread=2, num_class=3, \n",
        "#                         min_child_weight=3, max_depth=15,\n",
        "#                         gamma=0.5, scale_pos_weight=0.8,\n",
        "#                         subsample=0.7, colsample_bytree = 0.8,\n",
        "#                         objective='multi:softmax')"
      ],
      "execution_count": 973,
      "outputs": []
    },
    {
      "cell_type": "code",
      "metadata": {
        "id": "h8FFQ98q_9ZF",
        "outputId": "f44174c4-dd05-44bc-936d-ff284b8bace7",
        "colab": {
          "base_uri": "https://localhost:8080/"
        }
      },
      "source": [
        "from sklearn.ensemble import RandomForestClassifier\n",
        "clf = RandomForestClassifier(max_depth=25, n_estimators = 42*5, criterion = 'entropy', random_state = 0)\n",
        "clf.fit(X_train, y_train)\n",
        "print(clf.score(X_test, y_test))\n",
        "    "
      ],
      "execution_count": 976,
      "outputs": [
        {
          "output_type": "stream",
          "name": "stdout",
          "text": [
            "0.8178451178451178\n"
          ]
        }
      ]
    },
    {
      "cell_type": "code",
      "metadata": {
        "colab": {
          "base_uri": "https://localhost:8080/"
        },
        "id": "twDDVhWRu1Wy",
        "outputId": "6238d564-323e-426b-f91f-3ba574c1c889"
      },
      "source": [
        "# model.fit(X_train, y_train)\n",
        "# print(model.score(X_test, y_test))"
      ],
      "execution_count": 974,
      "outputs": [
        {
          "output_type": "stream",
          "name": "stdout",
          "text": [
            "0.8162457912457912\n"
          ]
        }
      ]
    },
    {
      "cell_type": "markdown",
      "metadata": {
        "id": "1wnEK4BpvPe5"
      },
      "source": [
        "calculate f1 score"
      ]
    },
    {
      "cell_type": "code",
      "metadata": {
        "colab": {
          "base_uri": "https://localhost:8080/"
        },
        "id": "SWeTJD-ju-6R",
        "outputId": "f76857ff-50cc-42f7-980c-8d9d87d53e4d"
      },
      "source": [
        "from sklearn.metrics import f1_score\n",
        "train_pred = clf.predict(X_test)\n",
        "print (train_pred)\n",
        "f1_score(train_pred, y_test,average = 'macro')"
      ],
      "execution_count": 979,
      "outputs": [
        {
          "output_type": "stream",
          "name": "stdout",
          "text": [
            "[2 0 0 ... 2 0 0]\n"
          ]
        },
        {
          "output_type": "execute_result",
          "data": {
            "text/plain": [
              "0.7026498669232913"
            ]
          },
          "metadata": {},
          "execution_count": 979
        }
      ]
    },
    {
      "cell_type": "code",
      "metadata": {
        "id": "WBxLDWgr5GzT"
      },
      "source": [
        "id = Xtest['id']"
      ],
      "execution_count": 966,
      "outputs": []
    },
    {
      "cell_type": "code",
      "metadata": {
        "id": "loN9U4ClxPIZ"
      },
      "source": [
        "val_pred = model.predict(Xtest)"
      ],
      "execution_count": 967,
      "outputs": []
    },
    {
      "cell_type": "code",
      "metadata": {
        "id": "h9OWFzap41zC"
      },
      "source": [
        "status_group_encoder = encoders['status_group']"
      ],
      "execution_count": 968,
      "outputs": []
    },
    {
      "cell_type": "code",
      "metadata": {
        "id": "G58SlPYF43LF"
      },
      "source": [
        "real_decoded_y = pd.DataFrame(status_group_encoder.inverse_transform(val_pred), columns = ['status_group'])"
      ],
      "execution_count": 969,
      "outputs": []
    },
    {
      "cell_type": "code",
      "metadata": {
        "id": "czoi3vHG48Xz"
      },
      "source": [
        "result = pd.concat([id, real_decoded_y], axis=1)"
      ],
      "execution_count": 970,
      "outputs": []
    },
    {
      "cell_type": "code",
      "metadata": {
        "id": "h_5FNNUV498t"
      },
      "source": [
        "result.to_csv(\"submisssion.csv\", index=False)"
      ],
      "execution_count": 971,
      "outputs": []
    }
  ]
}