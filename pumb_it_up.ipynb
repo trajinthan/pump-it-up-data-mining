{
  "nbformat": 4,
  "nbformat_minor": 0,
  "metadata": {
    "colab": {
      "name": "pumb-it-up",
      "provenance": [],
      "authorship_tag": "ABX9TyMW/UDltAQz8/vv67oqvvI9",
      "include_colab_link": true
    },
    "kernelspec": {
      "name": "python3",
      "display_name": "Python 3"
    },
    "language_info": {
      "name": "python"
    }
  },
  "cells": [
    {
      "cell_type": "markdown",
      "metadata": {
        "id": "view-in-github",
        "colab_type": "text"
      },
      "source": [
        "<a href=\"https://colab.research.google.com/github/trajinthan/pump-it-up-data-mining/blob/main/pumb_it_up.ipynb\" target=\"_parent\"><img src=\"https://colab.research.google.com/assets/colab-badge.svg\" alt=\"Open In Colab\"/></a>"
      ]
    },
    {
      "cell_type": "markdown",
      "metadata": {
        "id": "-IfUrGb6MQFX"
      },
      "source": [
        "# Load data"
      ]
    },
    {
      "cell_type": "markdown",
      "metadata": {
        "id": "u_MKlCxOL4-D"
      },
      "source": [
        "Authenticate with google drive"
      ]
    },
    {
      "cell_type": "code",
      "metadata": {
        "id": "K4X6X_7jKcGD"
      },
      "source": [
        "from pydrive.auth import GoogleAuth\n",
        "from pydrive.drive import GoogleDrive\n",
        "from google.colab import auth\n",
        "from oauth2client.client import GoogleCredentials\n",
        "\n",
        "auth.authenticate_user()\n",
        "gauth = GoogleAuth()\n",
        "gauth.credentials = GoogleCredentials.get_application_default()\n",
        "drive = GoogleDrive(gauth)"
      ],
      "execution_count": 1,
      "outputs": []
    },
    {
      "cell_type": "markdown",
      "metadata": {
        "id": "coONgIhrL5uS"
      },
      "source": [
        "Load data from google drive to colab work space according to the csv file id"
      ]
    },
    {
      "cell_type": "code",
      "metadata": {
        "id": "oW9edJAYKkYG"
      },
      "source": [
        "import pandas as pd\n",
        "\n",
        "training_labels = drive.CreateFile({'id':'12QS3xedC7EoPS4Xj2cNVuwBSLnvbJMNM'}) \n",
        "training_labels.GetContentFile('TrainLabel.csv')  \n",
        "Y_train = pd.read_csv('TrainLabel.csv')\n",
        "\n",
        "training_values = drive.CreateFile({'id':'1F4TZBjMRpTPkEbW7vjpQBIhl7Kp3QlEf'}) \n",
        "training_values.GetContentFile('TrainValue.csv')  \n",
        "X_train = pd.read_csv('TrainValue.csv')\n",
        "\n",
        "testing_labels = drive.CreateFile({'id':'1Y4Idhc-WeUTM5uQSjZOqyQ5r4ePgUD84'}) \n",
        "testing_labels.GetContentFile('TestData.csv')  \n",
        "Xtest = pd.read_csv('TestData.csv')"
      ],
      "execution_count": 7,
      "outputs": []
    },
    {
      "cell_type": "code",
      "metadata": {
        "id": "N6CkrER4LSbh"
      },
      "source": [
        "X_train.head().T"
      ],
      "execution_count": null,
      "outputs": []
    },
    {
      "cell_type": "code",
      "metadata": {
        "id": "7QwrQ-sMNrWw"
      },
      "source": [
        "X_train.dtypes"
      ],
      "execution_count": null,
      "outputs": []
    },
    {
      "cell_type": "code",
      "metadata": {
        "id": "VuFl00NNN1AR"
      },
      "source": [
        ""
      ],
      "execution_count": null,
      "outputs": []
    }
  ]
}